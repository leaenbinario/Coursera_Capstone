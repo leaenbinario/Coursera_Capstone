{
    "cells": [
        {
            "cell_type": "markdown",
            "metadata": {
                "collapsed": true
            },
            "source": "# This notebook wil be used to capstone project data science in coursera"
        },
        {
            "cell_type": "markdown",
            "metadata": {},
            "source": "## Table of contents\n* [Business Problem](#business)\n* [Data](#data)\n* [Methodology](#methodology)\n* [Analysis](#analysis)\n* [Results and Discussion](#results)\n* [Conclusion](#conclusion)"
        },
        {
            "cell_type": "markdown",
            "metadata": {},
            "source": "## Business Problem <a name=\"business\"></a>"
        },
        {
            "cell_type": "markdown",
            "metadata": {},
            "source": "A system to reduce accidents will be favoured by car users, insurance companies, road maintenance, cities/municipalities/governments and, if relevant, habitants in the area. \nIt would reduce the costs caused by accidents, as well as improve the traffic by reducing congestion caused by accidents. Predict the possibility of getting to a car accident and its severity given the current driver and driving conditions in order to reduce damages in a real-life scenario."
        },
        {
            "cell_type": "markdown",
            "metadata": {},
            "source": "## Data <a name=\"data\"></a>"
        },
        {
            "cell_type": "markdown",
            "metadata": {},
            "source": "Data is already provided through a CSV file called Data-Collisions.csv which contains 194673 rows. \n\nThe next step is to remove irrelevant columns: COLDETKEY, REPORTNO, STATUS, INTKEY, LOCATION, EXCEPTRSNCODE, EXCEPTRSNDESC, JUNCTIONTYPE, SDOT_COLCODE, SDOT_COLDESC, INATTENTIONIND, UNDERINFL, PEDROWNOTGRNT, SDOTCOLNUM, SPEEDING, ST_COLCODE, ST_COLDESC, SEGLANEKEY, CROSSWALKKEY, HITPARKEDCAR, COLLISIONTYPE, ADDRTYPE, SEVERITYDESC.\n\nThen we have to identify the relevant columns by looking for trends and patterns in this case: WEATHER, ROADCOND, LIGHTCOND, PERSONCOUNT, PEDCOUNT, PEDCYLCOUNT, VEHCOUNT, INCDATE, INCDTTM.\n\nThen we eliminate duplicate columns: SEVERITYCODE.\n\nDealing with missing data by removing the row.\n\nNormalising, balancing or transforming data in order to be able to work with different models in the next step. This could include for example changing strings that describe weather to numeric input."
        },
        {
            "cell_type": "code",
            "execution_count": 1,
            "metadata": {},
            "outputs": [],
            "source": "import pandas as pd\nimport numpy as np\nimport matplotlib.pyplot as plt\nimport seaborn as sns\nfrom sklearn import preprocessing"
        },
        {
            "cell_type": "code",
            "execution_count": 2,
            "metadata": {},
            "outputs": [],
            "source": "import types\nfrom botocore.client import Config\nimport ibm_boto3\n\ndef __iter__(self): return 0"
        },
        {
            "cell_type": "code",
            "execution_count": 3,
            "metadata": {},
            "outputs": [
                {
                    "name": "stderr",
                    "output_type": "stream",
                    "text": "/opt/conda/envs/Python36/lib/python3.6/site-packages/IPython/core/interactiveshell.py:3020: DtypeWarning: Columns (33) have mixed types. Specify dtype option on import or set low_memory=False.\n  interactivity=interactivity, compiler=compiler, result=result)\n"
                },
                {
                    "data": {
                        "text/html": "<div>\n<style scoped>\n    .dataframe tbody tr th:only-of-type {\n        vertical-align: middle;\n    }\n\n    .dataframe tbody tr th {\n        vertical-align: top;\n    }\n\n    .dataframe thead th {\n        text-align: right;\n    }\n</style>\n<table border=\"1\" class=\"dataframe\">\n  <thead>\n    <tr style=\"text-align: right;\">\n      <th></th>\n      <th>SEVERITYCODE</th>\n      <th>X</th>\n      <th>Y</th>\n      <th>OBJECTID</th>\n      <th>INCKEY</th>\n      <th>COLDETKEY</th>\n      <th>REPORTNO</th>\n      <th>STATUS</th>\n      <th>ADDRTYPE</th>\n      <th>INTKEY</th>\n      <th>...</th>\n      <th>ROADCOND</th>\n      <th>LIGHTCOND</th>\n      <th>PEDROWNOTGRNT</th>\n      <th>SDOTCOLNUM</th>\n      <th>SPEEDING</th>\n      <th>ST_COLCODE</th>\n      <th>ST_COLDESC</th>\n      <th>SEGLANEKEY</th>\n      <th>CROSSWALKKEY</th>\n      <th>HITPARKEDCAR</th>\n    </tr>\n  </thead>\n  <tbody>\n    <tr>\n      <th>0</th>\n      <td>2</td>\n      <td>-122.323148</td>\n      <td>47.703140</td>\n      <td>1</td>\n      <td>1307</td>\n      <td>1307</td>\n      <td>3502005</td>\n      <td>Matched</td>\n      <td>Intersection</td>\n      <td>37475.0</td>\n      <td>...</td>\n      <td>Wet</td>\n      <td>Daylight</td>\n      <td>NaN</td>\n      <td>NaN</td>\n      <td>NaN</td>\n      <td>10</td>\n      <td>Entering at angle</td>\n      <td>0</td>\n      <td>0</td>\n      <td>N</td>\n    </tr>\n    <tr>\n      <th>1</th>\n      <td>1</td>\n      <td>-122.347294</td>\n      <td>47.647172</td>\n      <td>2</td>\n      <td>52200</td>\n      <td>52200</td>\n      <td>2607959</td>\n      <td>Matched</td>\n      <td>Block</td>\n      <td>NaN</td>\n      <td>...</td>\n      <td>Wet</td>\n      <td>Dark - Street Lights On</td>\n      <td>NaN</td>\n      <td>6354039.0</td>\n      <td>NaN</td>\n      <td>11</td>\n      <td>From same direction - both going straight - bo...</td>\n      <td>0</td>\n      <td>0</td>\n      <td>N</td>\n    </tr>\n    <tr>\n      <th>2</th>\n      <td>1</td>\n      <td>-122.334540</td>\n      <td>47.607871</td>\n      <td>3</td>\n      <td>26700</td>\n      <td>26700</td>\n      <td>1482393</td>\n      <td>Matched</td>\n      <td>Block</td>\n      <td>NaN</td>\n      <td>...</td>\n      <td>Dry</td>\n      <td>Daylight</td>\n      <td>NaN</td>\n      <td>4323031.0</td>\n      <td>NaN</td>\n      <td>32</td>\n      <td>One parked--one moving</td>\n      <td>0</td>\n      <td>0</td>\n      <td>N</td>\n    </tr>\n    <tr>\n      <th>3</th>\n      <td>1</td>\n      <td>-122.334803</td>\n      <td>47.604803</td>\n      <td>4</td>\n      <td>1144</td>\n      <td>1144</td>\n      <td>3503937</td>\n      <td>Matched</td>\n      <td>Block</td>\n      <td>NaN</td>\n      <td>...</td>\n      <td>Dry</td>\n      <td>Daylight</td>\n      <td>NaN</td>\n      <td>NaN</td>\n      <td>NaN</td>\n      <td>23</td>\n      <td>From same direction - all others</td>\n      <td>0</td>\n      <td>0</td>\n      <td>N</td>\n    </tr>\n    <tr>\n      <th>4</th>\n      <td>2</td>\n      <td>-122.306426</td>\n      <td>47.545739</td>\n      <td>5</td>\n      <td>17700</td>\n      <td>17700</td>\n      <td>1807429</td>\n      <td>Matched</td>\n      <td>Intersection</td>\n      <td>34387.0</td>\n      <td>...</td>\n      <td>Wet</td>\n      <td>Daylight</td>\n      <td>NaN</td>\n      <td>4028032.0</td>\n      <td>NaN</td>\n      <td>10</td>\n      <td>Entering at angle</td>\n      <td>0</td>\n      <td>0</td>\n      <td>N</td>\n    </tr>\n  </tbody>\n</table>\n<p>5 rows \u00d7 38 columns</p>\n</div>",
                        "text/plain": "   SEVERITYCODE           X          Y  OBJECTID  INCKEY  COLDETKEY REPORTNO  \\\n0             2 -122.323148  47.703140         1    1307       1307  3502005   \n1             1 -122.347294  47.647172         2   52200      52200  2607959   \n2             1 -122.334540  47.607871         3   26700      26700  1482393   \n3             1 -122.334803  47.604803         4    1144       1144  3503937   \n4             2 -122.306426  47.545739         5   17700      17700  1807429   \n\n    STATUS      ADDRTYPE   INTKEY  ... ROADCOND                LIGHTCOND  \\\n0  Matched  Intersection  37475.0  ...      Wet                 Daylight   \n1  Matched         Block      NaN  ...      Wet  Dark - Street Lights On   \n2  Matched         Block      NaN  ...      Dry                 Daylight   \n3  Matched         Block      NaN  ...      Dry                 Daylight   \n4  Matched  Intersection  34387.0  ...      Wet                 Daylight   \n\n  PEDROWNOTGRNT  SDOTCOLNUM SPEEDING ST_COLCODE  \\\n0           NaN         NaN      NaN         10   \n1           NaN   6354039.0      NaN         11   \n2           NaN   4323031.0      NaN         32   \n3           NaN         NaN      NaN         23   \n4           NaN   4028032.0      NaN         10   \n\n                                          ST_COLDESC  SEGLANEKEY  \\\n0                                  Entering at angle           0   \n1  From same direction - both going straight - bo...           0   \n2                             One parked--one moving           0   \n3                   From same direction - all others           0   \n4                                  Entering at angle           0   \n\n   CROSSWALKKEY  HITPARKEDCAR  \n0             0             N  \n1             0             N  \n2             0             N  \n3             0             N  \n4             0             N  \n\n[5 rows x 38 columns]"
                    },
                    "execution_count": 3,
                    "metadata": {},
                    "output_type": "execute_result"
                }
            ],
            "source": "# The code was removed by Watson Studio for sharing."
        },
        {
            "cell_type": "code",
            "execution_count": 4,
            "metadata": {},
            "outputs": [
                {
                    "data": {
                        "text/html": "<div>\n<style scoped>\n    .dataframe tbody tr th:only-of-type {\n        vertical-align: middle;\n    }\n\n    .dataframe tbody tr th {\n        vertical-align: top;\n    }\n\n    .dataframe thead th {\n        text-align: right;\n    }\n</style>\n<table border=\"1\" class=\"dataframe\">\n  <thead>\n    <tr style=\"text-align: right;\">\n      <th></th>\n      <th>SEVERITYCODE</th>\n      <th>X</th>\n      <th>Y</th>\n      <th>OBJECTID</th>\n      <th>INCKEY</th>\n      <th>COLDETKEY</th>\n      <th>INTKEY</th>\n      <th>SEVERITYCODE.1</th>\n      <th>PERSONCOUNT</th>\n      <th>PEDCOUNT</th>\n      <th>PEDCYLCOUNT</th>\n      <th>VEHCOUNT</th>\n      <th>SDOT_COLCODE</th>\n      <th>SDOTCOLNUM</th>\n      <th>SEGLANEKEY</th>\n      <th>CROSSWALKKEY</th>\n    </tr>\n  </thead>\n  <tbody>\n    <tr>\n      <th>count</th>\n      <td>194673.000000</td>\n      <td>189339.000000</td>\n      <td>189339.000000</td>\n      <td>194673.000000</td>\n      <td>194673.000000</td>\n      <td>194673.000000</td>\n      <td>65070.000000</td>\n      <td>194673.000000</td>\n      <td>194673.000000</td>\n      <td>194673.000000</td>\n      <td>194673.000000</td>\n      <td>194673.000000</td>\n      <td>194673.000000</td>\n      <td>1.149360e+05</td>\n      <td>194673.000000</td>\n      <td>1.946730e+05</td>\n    </tr>\n    <tr>\n      <th>mean</th>\n      <td>1.298901</td>\n      <td>-122.330518</td>\n      <td>47.619543</td>\n      <td>108479.364930</td>\n      <td>141091.456350</td>\n      <td>141298.811381</td>\n      <td>37558.450576</td>\n      <td>1.298901</td>\n      <td>2.444427</td>\n      <td>0.037139</td>\n      <td>0.028391</td>\n      <td>1.920780</td>\n      <td>13.867768</td>\n      <td>7.972521e+06</td>\n      <td>269.401114</td>\n      <td>9.782452e+03</td>\n    </tr>\n    <tr>\n      <th>std</th>\n      <td>0.457778</td>\n      <td>0.029976</td>\n      <td>0.056157</td>\n      <td>62649.722558</td>\n      <td>86634.402737</td>\n      <td>86986.542110</td>\n      <td>51745.990273</td>\n      <td>0.457778</td>\n      <td>1.345929</td>\n      <td>0.198150</td>\n      <td>0.167413</td>\n      <td>0.631047</td>\n      <td>6.868755</td>\n      <td>2.553533e+06</td>\n      <td>3315.776055</td>\n      <td>7.226926e+04</td>\n    </tr>\n    <tr>\n      <th>min</th>\n      <td>1.000000</td>\n      <td>-122.419091</td>\n      <td>47.495573</td>\n      <td>1.000000</td>\n      <td>1001.000000</td>\n      <td>1001.000000</td>\n      <td>23807.000000</td>\n      <td>1.000000</td>\n      <td>0.000000</td>\n      <td>0.000000</td>\n      <td>0.000000</td>\n      <td>0.000000</td>\n      <td>0.000000</td>\n      <td>1.007024e+06</td>\n      <td>0.000000</td>\n      <td>0.000000e+00</td>\n    </tr>\n    <tr>\n      <th>25%</th>\n      <td>1.000000</td>\n      <td>-122.348673</td>\n      <td>47.575956</td>\n      <td>54267.000000</td>\n      <td>70383.000000</td>\n      <td>70383.000000</td>\n      <td>28667.000000</td>\n      <td>1.000000</td>\n      <td>2.000000</td>\n      <td>0.000000</td>\n      <td>0.000000</td>\n      <td>2.000000</td>\n      <td>11.000000</td>\n      <td>6.040015e+06</td>\n      <td>0.000000</td>\n      <td>0.000000e+00</td>\n    </tr>\n    <tr>\n      <th>50%</th>\n      <td>1.000000</td>\n      <td>-122.330224</td>\n      <td>47.615369</td>\n      <td>106912.000000</td>\n      <td>123363.000000</td>\n      <td>123363.000000</td>\n      <td>29973.000000</td>\n      <td>1.000000</td>\n      <td>2.000000</td>\n      <td>0.000000</td>\n      <td>0.000000</td>\n      <td>2.000000</td>\n      <td>13.000000</td>\n      <td>8.023022e+06</td>\n      <td>0.000000</td>\n      <td>0.000000e+00</td>\n    </tr>\n    <tr>\n      <th>75%</th>\n      <td>2.000000</td>\n      <td>-122.311937</td>\n      <td>47.663664</td>\n      <td>162272.000000</td>\n      <td>203319.000000</td>\n      <td>203459.000000</td>\n      <td>33973.000000</td>\n      <td>2.000000</td>\n      <td>3.000000</td>\n      <td>0.000000</td>\n      <td>0.000000</td>\n      <td>2.000000</td>\n      <td>14.000000</td>\n      <td>1.015501e+07</td>\n      <td>0.000000</td>\n      <td>0.000000e+00</td>\n    </tr>\n    <tr>\n      <th>max</th>\n      <td>2.000000</td>\n      <td>-122.238949</td>\n      <td>47.734142</td>\n      <td>219547.000000</td>\n      <td>331454.000000</td>\n      <td>332954.000000</td>\n      <td>757580.000000</td>\n      <td>2.000000</td>\n      <td>81.000000</td>\n      <td>6.000000</td>\n      <td>2.000000</td>\n      <td>12.000000</td>\n      <td>69.000000</td>\n      <td>1.307202e+07</td>\n      <td>525241.000000</td>\n      <td>5.239700e+06</td>\n    </tr>\n  </tbody>\n</table>\n</div>",
                        "text/plain": "        SEVERITYCODE              X              Y       OBJECTID  \\\ncount  194673.000000  189339.000000  189339.000000  194673.000000   \nmean        1.298901    -122.330518      47.619543  108479.364930   \nstd         0.457778       0.029976       0.056157   62649.722558   \nmin         1.000000    -122.419091      47.495573       1.000000   \n25%         1.000000    -122.348673      47.575956   54267.000000   \n50%         1.000000    -122.330224      47.615369  106912.000000   \n75%         2.000000    -122.311937      47.663664  162272.000000   \nmax         2.000000    -122.238949      47.734142  219547.000000   \n\n              INCKEY      COLDETKEY         INTKEY  SEVERITYCODE.1  \\\ncount  194673.000000  194673.000000   65070.000000   194673.000000   \nmean   141091.456350  141298.811381   37558.450576        1.298901   \nstd     86634.402737   86986.542110   51745.990273        0.457778   \nmin      1001.000000    1001.000000   23807.000000        1.000000   \n25%     70383.000000   70383.000000   28667.000000        1.000000   \n50%    123363.000000  123363.000000   29973.000000        1.000000   \n75%    203319.000000  203459.000000   33973.000000        2.000000   \nmax    331454.000000  332954.000000  757580.000000        2.000000   \n\n         PERSONCOUNT       PEDCOUNT    PEDCYLCOUNT       VEHCOUNT  \\\ncount  194673.000000  194673.000000  194673.000000  194673.000000   \nmean        2.444427       0.037139       0.028391       1.920780   \nstd         1.345929       0.198150       0.167413       0.631047   \nmin         0.000000       0.000000       0.000000       0.000000   \n25%         2.000000       0.000000       0.000000       2.000000   \n50%         2.000000       0.000000       0.000000       2.000000   \n75%         3.000000       0.000000       0.000000       2.000000   \nmax        81.000000       6.000000       2.000000      12.000000   \n\n        SDOT_COLCODE    SDOTCOLNUM     SEGLANEKEY  CROSSWALKKEY  \ncount  194673.000000  1.149360e+05  194673.000000  1.946730e+05  \nmean       13.867768  7.972521e+06     269.401114  9.782452e+03  \nstd         6.868755  2.553533e+06    3315.776055  7.226926e+04  \nmin         0.000000  1.007024e+06       0.000000  0.000000e+00  \n25%        11.000000  6.040015e+06       0.000000  0.000000e+00  \n50%        13.000000  8.023022e+06       0.000000  0.000000e+00  \n75%        14.000000  1.015501e+07       0.000000  0.000000e+00  \nmax        69.000000  1.307202e+07  525241.000000  5.239700e+06  "
                    },
                    "execution_count": 4,
                    "metadata": {},
                    "output_type": "execute_result"
                }
            ],
            "source": "# summarize the data\ndf.describe()"
        },
        {
            "cell_type": "code",
            "execution_count": 5,
            "metadata": {},
            "outputs": [
                {
                    "data": {
                        "text/html": "<div>\n<style scoped>\n    .dataframe tbody tr th:only-of-type {\n        vertical-align: middle;\n    }\n\n    .dataframe tbody tr th {\n        vertical-align: top;\n    }\n\n    .dataframe thead th {\n        text-align: right;\n    }\n</style>\n<table border=\"1\" class=\"dataframe\">\n  <thead>\n    <tr style=\"text-align: right;\">\n      <th></th>\n      <th>SEVERITYCODE</th>\n      <th>PERSONCOUNT</th>\n      <th>PEDCOUNT</th>\n      <th>PEDCYLCOUNT</th>\n      <th>VEHCOUNT</th>\n      <th>ROADCOND</th>\n      <th>LIGHTCOND</th>\n      <th>WEATHER</th>\n      <th>INCDTTM</th>\n    </tr>\n  </thead>\n  <tbody>\n    <tr>\n      <th>0</th>\n      <td>2</td>\n      <td>2</td>\n      <td>0</td>\n      <td>0</td>\n      <td>2</td>\n      <td>Wet</td>\n      <td>Daylight</td>\n      <td>Overcast</td>\n      <td>3/27/2013 2:54:00 PM</td>\n    </tr>\n    <tr>\n      <th>1</th>\n      <td>1</td>\n      <td>2</td>\n      <td>0</td>\n      <td>0</td>\n      <td>2</td>\n      <td>Wet</td>\n      <td>Dark - Street Lights On</td>\n      <td>Raining</td>\n      <td>12/20/2006 6:55:00 PM</td>\n    </tr>\n    <tr>\n      <th>2</th>\n      <td>1</td>\n      <td>4</td>\n      <td>0</td>\n      <td>0</td>\n      <td>3</td>\n      <td>Dry</td>\n      <td>Daylight</td>\n      <td>Overcast</td>\n      <td>11/18/2004 10:20:00 AM</td>\n    </tr>\n    <tr>\n      <th>3</th>\n      <td>1</td>\n      <td>3</td>\n      <td>0</td>\n      <td>0</td>\n      <td>3</td>\n      <td>Dry</td>\n      <td>Daylight</td>\n      <td>Clear</td>\n      <td>3/29/2013 9:26:00 AM</td>\n    </tr>\n    <tr>\n      <th>4</th>\n      <td>2</td>\n      <td>2</td>\n      <td>0</td>\n      <td>0</td>\n      <td>2</td>\n      <td>Wet</td>\n      <td>Daylight</td>\n      <td>Raining</td>\n      <td>1/28/2004 8:04:00 AM</td>\n    </tr>\n    <tr>\n      <th>5</th>\n      <td>1</td>\n      <td>2</td>\n      <td>0</td>\n      <td>0</td>\n      <td>2</td>\n      <td>Dry</td>\n      <td>Daylight</td>\n      <td>Clear</td>\n      <td>4/20/2019 5:42:00 PM</td>\n    </tr>\n    <tr>\n      <th>6</th>\n      <td>1</td>\n      <td>2</td>\n      <td>0</td>\n      <td>0</td>\n      <td>2</td>\n      <td>Wet</td>\n      <td>Daylight</td>\n      <td>Raining</td>\n      <td>12/9/2008</td>\n    </tr>\n    <tr>\n      <th>7</th>\n      <td>2</td>\n      <td>3</td>\n      <td>0</td>\n      <td>1</td>\n      <td>1</td>\n      <td>Dry</td>\n      <td>Daylight</td>\n      <td>Clear</td>\n      <td>4/15/2020 5:47:00 PM</td>\n    </tr>\n    <tr>\n      <th>8</th>\n      <td>1</td>\n      <td>2</td>\n      <td>0</td>\n      <td>0</td>\n      <td>2</td>\n      <td>Dry</td>\n      <td>Daylight</td>\n      <td>Clear</td>\n      <td>6/15/2006 1:00:00 PM</td>\n    </tr>\n  </tbody>\n</table>\n</div>",
                        "text/plain": "   SEVERITYCODE  PERSONCOUNT  PEDCOUNT  PEDCYLCOUNT  VEHCOUNT ROADCOND  \\\n0             2            2         0            0         2      Wet   \n1             1            2         0            0         2      Wet   \n2             1            4         0            0         3      Dry   \n3             1            3         0            0         3      Dry   \n4             2            2         0            0         2      Wet   \n5             1            2         0            0         2      Dry   \n6             1            2         0            0         2      Wet   \n7             2            3         0            1         1      Dry   \n8             1            2         0            0         2      Dry   \n\n                 LIGHTCOND   WEATHER                 INCDTTM  \n0                 Daylight  Overcast    3/27/2013 2:54:00 PM  \n1  Dark - Street Lights On   Raining   12/20/2006 6:55:00 PM  \n2                 Daylight  Overcast  11/18/2004 10:20:00 AM  \n3                 Daylight     Clear    3/29/2013 9:26:00 AM  \n4                 Daylight   Raining    1/28/2004 8:04:00 AM  \n5                 Daylight     Clear    4/20/2019 5:42:00 PM  \n6                 Daylight   Raining               12/9/2008  \n7                 Daylight     Clear    4/15/2020 5:47:00 PM  \n8                 Daylight     Clear    6/15/2006 1:00:00 PM  "
                    },
                    "execution_count": 5,
                    "metadata": {},
                    "output_type": "execute_result"
                }
            ],
            "source": "# Select columns\nsdf=df[['SEVERITYCODE','PERSONCOUNT','PEDCOUNT','PEDCYLCOUNT','VEHCOUNT','ROADCOND','LIGHTCOND','WEATHER','INCDTTM']]\nsdf.head(9)"
        },
        {
            "cell_type": "code",
            "execution_count": 6,
            "metadata": {},
            "outputs": [
                {
                    "data": {
                        "text/plain": "SEVERITYCODE     int64\nPERSONCOUNT      int64\nPEDCOUNT         int64\nPEDCYLCOUNT      int64\nVEHCOUNT         int64\nROADCOND        object\nLIGHTCOND       object\nWEATHER         object\nINCDTTM         object\ndtype: object"
                    },
                    "execution_count": 6,
                    "metadata": {},
                    "output_type": "execute_result"
                }
            ],
            "source": "sdf.dtypes"
        },
        {
            "cell_type": "code",
            "execution_count": 7,
            "metadata": {},
            "outputs": [
                {
                    "data": {
                        "text/html": "<div>\n<style scoped>\n    .dataframe tbody tr th:only-of-type {\n        vertical-align: middle;\n    }\n\n    .dataframe tbody tr th {\n        vertical-align: top;\n    }\n\n    .dataframe thead th {\n        text-align: right;\n    }\n</style>\n<table border=\"1\" class=\"dataframe\">\n  <thead>\n    <tr style=\"text-align: right;\">\n      <th></th>\n      <th>SEVERITYCODE</th>\n      <th>PERSONCOUNT</th>\n      <th>PEDCOUNT</th>\n      <th>PEDCYLCOUNT</th>\n      <th>VEHCOUNT</th>\n      <th>ROADCOND</th>\n      <th>LIGHTCOND</th>\n      <th>WEATHER</th>\n      <th>INCDTTM</th>\n    </tr>\n  </thead>\n  <tbody>\n    <tr>\n      <th>0</th>\n      <td>2</td>\n      <td>2</td>\n      <td>0</td>\n      <td>0</td>\n      <td>2</td>\n      <td>Wet</td>\n      <td>Daylight</td>\n      <td>Overcast</td>\n      <td>3/27/2013 2:54:00 PM</td>\n    </tr>\n    <tr>\n      <th>1</th>\n      <td>1</td>\n      <td>2</td>\n      <td>0</td>\n      <td>0</td>\n      <td>2</td>\n      <td>Wet</td>\n      <td>Dark - Street Lights On</td>\n      <td>Raining</td>\n      <td>12/20/2006 6:55:00 PM</td>\n    </tr>\n    <tr>\n      <th>2</th>\n      <td>1</td>\n      <td>4</td>\n      <td>0</td>\n      <td>0</td>\n      <td>3</td>\n      <td>Dry</td>\n      <td>Daylight</td>\n      <td>Overcast</td>\n      <td>11/18/2004 10:20:00 AM</td>\n    </tr>\n    <tr>\n      <th>3</th>\n      <td>1</td>\n      <td>3</td>\n      <td>0</td>\n      <td>0</td>\n      <td>3</td>\n      <td>Dry</td>\n      <td>Daylight</td>\n      <td>Clear</td>\n      <td>3/29/2013 9:26:00 AM</td>\n    </tr>\n    <tr>\n      <th>4</th>\n      <td>2</td>\n      <td>2</td>\n      <td>0</td>\n      <td>0</td>\n      <td>2</td>\n      <td>Wet</td>\n      <td>Daylight</td>\n      <td>Raining</td>\n      <td>1/28/2004 8:04:00 AM</td>\n    </tr>\n  </tbody>\n</table>\n</div>",
                        "text/plain": "   SEVERITYCODE  PERSONCOUNT  PEDCOUNT  PEDCYLCOUNT  VEHCOUNT ROADCOND  \\\n0             2            2         0            0         2      Wet   \n1             1            2         0            0         2      Wet   \n2             1            4         0            0         3      Dry   \n3             1            3         0            0         3      Dry   \n4             2            2         0            0         2      Wet   \n\n                 LIGHTCOND   WEATHER                 INCDTTM  \n0                 Daylight  Overcast    3/27/2013 2:54:00 PM  \n1  Dark - Street Lights On   Raining   12/20/2006 6:55:00 PM  \n2                 Daylight  Overcast  11/18/2004 10:20:00 AM  \n3                 Daylight     Clear    3/29/2013 9:26:00 AM  \n4                 Daylight   Raining    1/28/2004 8:04:00 AM  "
                    },
                    "execution_count": 7,
                    "metadata": {},
                    "output_type": "execute_result"
                }
            ],
            "source": "#drop rows with empty fields\nsdf=sdf.dropna()\nsdf.head()"
        },
        {
            "cell_type": "code",
            "execution_count": 8,
            "metadata": {},
            "outputs": [
                {
                    "data": {
                        "text/html": "<div>\n<style scoped>\n    .dataframe tbody tr th:only-of-type {\n        vertical-align: middle;\n    }\n\n    .dataframe tbody tr th {\n        vertical-align: top;\n    }\n\n    .dataframe thead th {\n        text-align: right;\n    }\n</style>\n<table border=\"1\" class=\"dataframe\">\n  <thead>\n    <tr style=\"text-align: right;\">\n      <th></th>\n      <th>SEVERITYCODE</th>\n      <th>PERSONCOUNT</th>\n      <th>PEDCOUNT</th>\n      <th>PEDCYLCOUNT</th>\n      <th>VEHCOUNT</th>\n      <th>ROADCOND</th>\n      <th>LIGHTCOND</th>\n      <th>WEATHER</th>\n      <th>INCDTTM</th>\n    </tr>\n  </thead>\n  <tbody>\n    <tr>\n      <th>0</th>\n      <td>2</td>\n      <td>2</td>\n      <td>0</td>\n      <td>0</td>\n      <td>2</td>\n      <td>Wet</td>\n      <td>Daylight</td>\n      <td>Overcast</td>\n      <td>2013-03-27 14:54:00</td>\n    </tr>\n    <tr>\n      <th>1</th>\n      <td>1</td>\n      <td>2</td>\n      <td>0</td>\n      <td>0</td>\n      <td>2</td>\n      <td>Wet</td>\n      <td>Dark - Street Lights On</td>\n      <td>Raining</td>\n      <td>2006-12-20 18:55:00</td>\n    </tr>\n    <tr>\n      <th>2</th>\n      <td>1</td>\n      <td>4</td>\n      <td>0</td>\n      <td>0</td>\n      <td>3</td>\n      <td>Dry</td>\n      <td>Daylight</td>\n      <td>Overcast</td>\n      <td>2004-11-18 10:20:00</td>\n    </tr>\n    <tr>\n      <th>3</th>\n      <td>1</td>\n      <td>3</td>\n      <td>0</td>\n      <td>0</td>\n      <td>3</td>\n      <td>Dry</td>\n      <td>Daylight</td>\n      <td>Clear</td>\n      <td>2013-03-29 09:26:00</td>\n    </tr>\n    <tr>\n      <th>4</th>\n      <td>2</td>\n      <td>2</td>\n      <td>0</td>\n      <td>0</td>\n      <td>2</td>\n      <td>Wet</td>\n      <td>Daylight</td>\n      <td>Raining</td>\n      <td>2004-01-28 08:04:00</td>\n    </tr>\n  </tbody>\n</table>\n</div>",
                        "text/plain": "   SEVERITYCODE  PERSONCOUNT  PEDCOUNT  PEDCYLCOUNT  VEHCOUNT ROADCOND  \\\n0             2            2         0            0         2      Wet   \n1             1            2         0            0         2      Wet   \n2             1            4         0            0         3      Dry   \n3             1            3         0            0         3      Dry   \n4             2            2         0            0         2      Wet   \n\n                 LIGHTCOND   WEATHER             INCDTTM  \n0                 Daylight  Overcast 2013-03-27 14:54:00  \n1  Dark - Street Lights On   Raining 2006-12-20 18:55:00  \n2                 Daylight  Overcast 2004-11-18 10:20:00  \n3                 Daylight     Clear 2013-03-29 09:26:00  \n4                 Daylight   Raining 2004-01-28 08:04:00  "
                    },
                    "execution_count": 8,
                    "metadata": {},
                    "output_type": "execute_result"
                }
            ],
            "source": "#Pass to datetime format\nsdf['INCDTTM'] = pd.to_datetime(sdf['INCDTTM'])\nsdf.head()"
        },
        {
            "cell_type": "code",
            "execution_count": 9,
            "metadata": {},
            "outputs": [
                {
                    "data": {
                        "text/html": "<div>\n<style scoped>\n    .dataframe tbody tr th:only-of-type {\n        vertical-align: middle;\n    }\n\n    .dataframe tbody tr th {\n        vertical-align: top;\n    }\n\n    .dataframe thead th {\n        text-align: right;\n    }\n</style>\n<table border=\"1\" class=\"dataframe\">\n  <thead>\n    <tr style=\"text-align: right;\">\n      <th></th>\n      <th>SEVERITYCODE</th>\n      <th>PERSONCOUNT</th>\n      <th>PEDCOUNT</th>\n      <th>PEDCYLCOUNT</th>\n      <th>VEHCOUNT</th>\n      <th>ROADCOND</th>\n      <th>LIGHTCOND</th>\n      <th>WEATHER</th>\n      <th>INCDTTM</th>\n      <th>dayofweek</th>\n      <th>weekend</th>\n    </tr>\n  </thead>\n  <tbody>\n    <tr>\n      <th>0</th>\n      <td>2</td>\n      <td>2</td>\n      <td>0</td>\n      <td>0</td>\n      <td>2</td>\n      <td>Wet</td>\n      <td>Daylight</td>\n      <td>Overcast</td>\n      <td>2013-03-27 14:54:00</td>\n      <td>2</td>\n      <td>0</td>\n    </tr>\n    <tr>\n      <th>1</th>\n      <td>1</td>\n      <td>2</td>\n      <td>0</td>\n      <td>0</td>\n      <td>2</td>\n      <td>Wet</td>\n      <td>Dark - Street Lights On</td>\n      <td>Raining</td>\n      <td>2006-12-20 18:55:00</td>\n      <td>2</td>\n      <td>0</td>\n    </tr>\n    <tr>\n      <th>2</th>\n      <td>1</td>\n      <td>4</td>\n      <td>0</td>\n      <td>0</td>\n      <td>3</td>\n      <td>Dry</td>\n      <td>Daylight</td>\n      <td>Overcast</td>\n      <td>2004-11-18 10:20:00</td>\n      <td>3</td>\n      <td>0</td>\n    </tr>\n    <tr>\n      <th>3</th>\n      <td>1</td>\n      <td>3</td>\n      <td>0</td>\n      <td>0</td>\n      <td>3</td>\n      <td>Dry</td>\n      <td>Daylight</td>\n      <td>Clear</td>\n      <td>2013-03-29 09:26:00</td>\n      <td>4</td>\n      <td>0</td>\n    </tr>\n    <tr>\n      <th>4</th>\n      <td>2</td>\n      <td>2</td>\n      <td>0</td>\n      <td>0</td>\n      <td>2</td>\n      <td>Wet</td>\n      <td>Daylight</td>\n      <td>Raining</td>\n      <td>2004-01-28 08:04:00</td>\n      <td>2</td>\n      <td>0</td>\n    </tr>\n  </tbody>\n</table>\n</div>",
                        "text/plain": "   SEVERITYCODE  PERSONCOUNT  PEDCOUNT  PEDCYLCOUNT  VEHCOUNT ROADCOND  \\\n0             2            2         0            0         2      Wet   \n1             1            2         0            0         2      Wet   \n2             1            4         0            0         3      Dry   \n3             1            3         0            0         3      Dry   \n4             2            2         0            0         2      Wet   \n\n                 LIGHTCOND   WEATHER             INCDTTM  dayofweek  weekend  \n0                 Daylight  Overcast 2013-03-27 14:54:00          2        0  \n1  Dark - Street Lights On   Raining 2006-12-20 18:55:00          2        0  \n2                 Daylight  Overcast 2004-11-18 10:20:00          3        0  \n3                 Daylight     Clear 2013-03-29 09:26:00          4        0  \n4                 Daylight   Raining 2004-01-28 08:04:00          2        0  "
                    },
                    "execution_count": 9,
                    "metadata": {},
                    "output_type": "execute_result"
                }
            ],
            "source": "#Add day of week and weekend\nsdf['dayofweek'] = sdf['INCDTTM'].dt.dayofweek\nsdf['weekend']= sdf['dayofweek'].apply(lambda x: 1 if (x>4)  else 0)\nsdf.head()"
        },
        {
            "cell_type": "code",
            "execution_count": 10,
            "metadata": {
                "scrolled": true
            },
            "outputs": [
                {
                    "data": {
                        "text/html": "<div>\n<style scoped>\n    .dataframe tbody tr th:only-of-type {\n        vertical-align: middle;\n    }\n\n    .dataframe tbody tr th {\n        vertical-align: top;\n    }\n\n    .dataframe thead th {\n        text-align: right;\n    }\n</style>\n<table border=\"1\" class=\"dataframe\">\n  <thead>\n    <tr style=\"text-align: right;\">\n      <th></th>\n      <th>SEVERITYCODE</th>\n      <th>PERSONCOUNT</th>\n      <th>PEDCOUNT</th>\n      <th>PEDCYLCOUNT</th>\n      <th>VEHCOUNT</th>\n      <th>ROADCOND</th>\n      <th>LIGHTCOND</th>\n      <th>WEATHER</th>\n      <th>INCDTTM</th>\n      <th>dayofweek</th>\n      <th>weekend</th>\n    </tr>\n  </thead>\n  <tbody>\n    <tr>\n      <th>0</th>\n      <td>2</td>\n      <td>2</td>\n      <td>0</td>\n      <td>0</td>\n      <td>2</td>\n      <td>1</td>\n      <td>Daylight</td>\n      <td>Overcast</td>\n      <td>2013-03-27 14:54:00</td>\n      <td>2</td>\n      <td>0</td>\n    </tr>\n    <tr>\n      <th>1</th>\n      <td>1</td>\n      <td>2</td>\n      <td>0</td>\n      <td>0</td>\n      <td>2</td>\n      <td>1</td>\n      <td>Dark - Street Lights On</td>\n      <td>Raining</td>\n      <td>2006-12-20 18:55:00</td>\n      <td>2</td>\n      <td>0</td>\n    </tr>\n    <tr>\n      <th>2</th>\n      <td>1</td>\n      <td>4</td>\n      <td>0</td>\n      <td>0</td>\n      <td>3</td>\n      <td>0</td>\n      <td>Daylight</td>\n      <td>Overcast</td>\n      <td>2004-11-18 10:20:00</td>\n      <td>3</td>\n      <td>0</td>\n    </tr>\n    <tr>\n      <th>3</th>\n      <td>1</td>\n      <td>3</td>\n      <td>0</td>\n      <td>0</td>\n      <td>3</td>\n      <td>0</td>\n      <td>Daylight</td>\n      <td>Clear</td>\n      <td>2013-03-29 09:26:00</td>\n      <td>4</td>\n      <td>0</td>\n    </tr>\n    <tr>\n      <th>4</th>\n      <td>2</td>\n      <td>2</td>\n      <td>0</td>\n      <td>0</td>\n      <td>2</td>\n      <td>1</td>\n      <td>Daylight</td>\n      <td>Raining</td>\n      <td>2004-01-28 08:04:00</td>\n      <td>2</td>\n      <td>0</td>\n    </tr>\n  </tbody>\n</table>\n</div>",
                        "text/plain": "   SEVERITYCODE  PERSONCOUNT  PEDCOUNT  PEDCYLCOUNT  VEHCOUNT  ROADCOND  \\\n0             2            2         0            0         2         1   \n1             1            2         0            0         2         1   \n2             1            4         0            0         3         0   \n3             1            3         0            0         3         0   \n4             2            2         0            0         2         1   \n\n                 LIGHTCOND   WEATHER             INCDTTM  dayofweek  weekend  \n0                 Daylight  Overcast 2013-03-27 14:54:00          2        0  \n1  Dark - Street Lights On   Raining 2006-12-20 18:55:00          2        0  \n2                 Daylight  Overcast 2004-11-18 10:20:00          3        0  \n3                 Daylight     Clear 2013-03-29 09:26:00          4        0  \n4                 Daylight   Raining 2004-01-28 08:04:00          2        0  "
                    },
                    "execution_count": 10,
                    "metadata": {},
                    "output_type": "execute_result"
                }
            ],
            "source": "#convert categorical features to numerical values\nsdf.groupby(['SEVERITYCODE'])['ROADCOND'].value_counts(normalize=True)\nsdf['ROADCOND'].replace(to_replace=['Dry','Wet','Unknown','Ice','Snow/Slush','Other','Standing Water','Sand/Mud/Dirt','Oil'], value=[0,1,2,3,4,5,6,7,8],inplace=True)\nsdf.head()"
        },
        {
            "cell_type": "code",
            "execution_count": 11,
            "metadata": {},
            "outputs": [],
            "source": "sdf.groupby(['SEVERITYCODE'])['LIGHTCOND'].value_counts(normalize=True)\nsdf['LIGHTCOND'].replace(to_replace=['Daylight','Dark - Street Lights On','Unknown','Dusk','Dawn','Dark - No Street Lights','Dark - Street Lights Off','Other','Dark - Unknown Lighting'], value=[0,1,2,3,4,5,6,7,8],inplace=True)"
        },
        {
            "cell_type": "code",
            "execution_count": 12,
            "metadata": {},
            "outputs": [],
            "source": "sdf.groupby(['SEVERITYCODE'])['WEATHER'].value_counts(normalize=True)\nsdf['WEATHER'].replace(to_replace=['Clear','Raining','Overcast','Unknown','Snowing','Other','Fog/Smog/Smoke','Sleet/Hail/Freezing Rain','Blowing Sand/Dirt','Severe Crosswind','Partly Cloudy'], value=[0,1,2,3,4,5,6,7,8,9,10],inplace=True)"
        },
        {
            "cell_type": "code",
            "execution_count": 13,
            "metadata": {},
            "outputs": [
                {
                    "data": {
                        "text/html": "<div>\n<style scoped>\n    .dataframe tbody tr th:only-of-type {\n        vertical-align: middle;\n    }\n\n    .dataframe tbody tr th {\n        vertical-align: top;\n    }\n\n    .dataframe thead th {\n        text-align: right;\n    }\n</style>\n<table border=\"1\" class=\"dataframe\">\n  <thead>\n    <tr style=\"text-align: right;\">\n      <th></th>\n      <th>SEVERITYCODE</th>\n      <th>PERSONCOUNT</th>\n      <th>PEDCOUNT</th>\n      <th>PEDCYLCOUNT</th>\n      <th>VEHCOUNT</th>\n      <th>ROADCOND</th>\n      <th>LIGHTCOND</th>\n      <th>WEATHER</th>\n      <th>INCDTTM</th>\n      <th>dayofweek</th>\n      <th>weekend</th>\n    </tr>\n  </thead>\n  <tbody>\n    <tr>\n      <th>0</th>\n      <td>2</td>\n      <td>2</td>\n      <td>0</td>\n      <td>0</td>\n      <td>2</td>\n      <td>1</td>\n      <td>0</td>\n      <td>2</td>\n      <td>2013-03-27 14:54:00</td>\n      <td>2</td>\n      <td>0</td>\n    </tr>\n    <tr>\n      <th>1</th>\n      <td>1</td>\n      <td>2</td>\n      <td>0</td>\n      <td>0</td>\n      <td>2</td>\n      <td>1</td>\n      <td>1</td>\n      <td>1</td>\n      <td>2006-12-20 18:55:00</td>\n      <td>2</td>\n      <td>0</td>\n    </tr>\n    <tr>\n      <th>2</th>\n      <td>1</td>\n      <td>4</td>\n      <td>0</td>\n      <td>0</td>\n      <td>3</td>\n      <td>0</td>\n      <td>0</td>\n      <td>2</td>\n      <td>2004-11-18 10:20:00</td>\n      <td>3</td>\n      <td>0</td>\n    </tr>\n    <tr>\n      <th>3</th>\n      <td>1</td>\n      <td>3</td>\n      <td>0</td>\n      <td>0</td>\n      <td>3</td>\n      <td>0</td>\n      <td>0</td>\n      <td>0</td>\n      <td>2013-03-29 09:26:00</td>\n      <td>4</td>\n      <td>0</td>\n    </tr>\n    <tr>\n      <th>4</th>\n      <td>2</td>\n      <td>2</td>\n      <td>0</td>\n      <td>0</td>\n      <td>2</td>\n      <td>1</td>\n      <td>0</td>\n      <td>1</td>\n      <td>2004-01-28 08:04:00</td>\n      <td>2</td>\n      <td>0</td>\n    </tr>\n  </tbody>\n</table>\n</div>",
                        "text/plain": "   SEVERITYCODE  PERSONCOUNT  PEDCOUNT  PEDCYLCOUNT  VEHCOUNT  ROADCOND  \\\n0             2            2         0            0         2         1   \n1             1            2         0            0         2         1   \n2             1            4         0            0         3         0   \n3             1            3         0            0         3         0   \n4             2            2         0            0         2         1   \n\n   LIGHTCOND  WEATHER             INCDTTM  dayofweek  weekend  \n0          0        2 2013-03-27 14:54:00          2        0  \n1          1        1 2006-12-20 18:55:00          2        0  \n2          0        2 2004-11-18 10:20:00          3        0  \n3          0        0 2013-03-29 09:26:00          4        0  \n4          0        1 2004-01-28 08:04:00          2        0  "
                    },
                    "execution_count": 13,
                    "metadata": {},
                    "output_type": "execute_result"
                }
            ],
            "source": "sdf.head()"
        },
        {
            "cell_type": "code",
            "execution_count": 14,
            "metadata": {},
            "outputs": [
                {
                    "data": {
                        "text/plain": "(189337, 11)"
                    },
                    "execution_count": 14,
                    "metadata": {},
                    "output_type": "execute_result"
                }
            ],
            "source": "sdf.shape"
        },
        {
            "cell_type": "code",
            "execution_count": 22,
            "metadata": {},
            "outputs": [
                {
                    "data": {
                        "image/png": "[encoded data removed]",
                        "text/plain": "<Figure size 432x288 with 1 Axes>"
                    },
                    "metadata": {
                        "needs_background": "light"
                    },
                    "output_type": "display_data"
                }
            ],
            "source": "#show disbalanced severity codes\nLABELS= ['1','2']\ncount_codes = pd.value_counts(sdf['SEVERITYCODE'], sort = True)\ncount_codes.plot(kind = 'bar', rot=0)\nplt.xticks(range(2), LABELS)\nplt.title(\"Frequency by observation number\")\nplt.xlabel(\"SEVERITYCODE\")\nplt.ylabel(\"Number of Observations\");"
        },
        {
            "cell_type": "code",
            "execution_count": null,
            "metadata": {},
            "outputs": [],
            "source": ""
        }
    ],
    "metadata": {
        "kernelspec": {
            "display_name": "Python 3.6",
            "language": "python",
            "name": "python3"
        },
        "language_info": {
            "codemirror_mode": {
                "name": "ipython",
                "version": 3
            },
            "file_extension": ".py",
            "mimetype": "text/x-python",
            "name": "python",
            "nbconvert_exporter": "python",
            "pygments_lexer": "ipython3",
            "version": "3.6.9"
        }
    },
    "nbformat": 4,
    "nbformat_minor": 1
}